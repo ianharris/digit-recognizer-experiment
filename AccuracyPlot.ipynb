{
 "cells": [
  {
   "cell_type": "markdown",
   "metadata": {},
   "source": [
    "# Overview\n",
    "\n",
    "This notebook is to select a value for the number of iterations used in model training for the architecture assessment. To select this value we will look at the training and validation accuracy data that resulted from assessing the output of the original Tensorflow Tutorial CNN architecture when run for 20,000 iterations. There are data points at every 100th iteration for the accuracy of the current (i.e. the 100th batch at iteration 100, the 200th batch at iteration 200, etc.) training batch and the entire validation set.\n",
    "\n",
    "We want to select a number of iterations that is low enough to allow model training to be reasonably fast on a standard laptop but high enough that the rate of change of validation accuracy with respect to iteration number is small."
   ]
  },
  {
   "cell_type": "code",
   "execution_count": null,
   "metadata": {},
   "outputs": [],
   "source": [
    "%matplotlib inline\n",
    "import numpy as np\n",
    "import matplotlib.pyplot as plt\n",
    "from matplotlib.ticker import MultipleLocator"
   ]
  },
  {
   "cell_type": "code",
   "execution_count": null,
   "metadata": {},
   "outputs": [],
   "source": [
    "with open('datasets/validation.accuracy.txt', 'r') as f:\n",
    "    validation = np.array(f.read().splitlines()).astype(np.float)"
   ]
  },
  {
   "cell_type": "code",
   "execution_count": null,
   "metadata": {},
   "outputs": [],
   "source": [
    "with open('datasets/training.accuracy.txt', 'r') as f:\n",
    "    training = np.array(f.read().splitlines()).astype(np.float)"
   ]
  },
  {
   "cell_type": "code",
   "execution_count": null,
   "metadata": {},
   "outputs": [],
   "source": [
    "t = list(range(0, 20000, 100))"
   ]
  },
  {
   "cell_type": "code",
   "execution_count": null,
   "metadata": {},
   "outputs": [],
   "source": [
    "plt.plot(t, training, 'b-.', t, validation, 'r--')\n",
    "\n",
    "# get an axis handle\n",
    "ax = plt.gca()\n",
    "# set the grid on\n",
    "ax.grid(True, which='both')\n",
    "# add Major tick locations to the yaxis\n",
    "locator = MultipleLocator(0.05)\n",
    "ax.yaxis.set_major_locator(locator)\n",
    "\n",
    "# set the plots y-axis limits\n",
    "# plt.ylim([0.85,1.005])\n",
    "\n",
    "# add labels to axes\n",
    "plt.ylabel('Accuracy')\n",
    "plt.xlabel('Training iterations; 800 iterations ~ 1 Epoch')\n",
    "plt.title('Training and Validation Accuracy vs Iteration Number')\n",
    "\n",
    "# add a legend to the plot\n",
    "plt.legend(['Training','Validation'])\n",
    "\n",
    "# turn minor ticks on\n",
    "plt.minorticks_on()"
   ]
  },
  {
   "cell_type": "markdown",
   "metadata": {},
   "source": [
    "From the figure above it is clear to see that the rate of increase in validation accuracy decreases with increasing iteration. We need to select a point where the rate of increase in validation accuracy is acceptably low. \n",
    "\n",
    "With this in mind, we will now plot the change in validation accuracy. The change in validation accuracy is calculated as:\n",
    "\n",
    "dvalidation = validation[1:] - validation[0:-1] \n",
    "\n",
    "If we liken the calculation of dvalidation to a forward difference numerical derivative then dvalidation[0], which is equal to validation[1] - validation[0], corresponds to t[0]. Hence, we have the set of points: \n",
    "\n",
    "((t[0], dvalidation[0]), (t[1], dvalidation[1]), ..., (t[len(t)-2], dvalidation[len(t)-2]))\n",
    "\n",
    "Or expressed another way there is no dvalidation[len(t)-1] to correspond to t[len(t)-1] (or t[-1] in Python notation).\n",
    "\n",
    "In addition to a plot of the change in validation accuracy we will also plot a best fit curve for the data. The best fit will give us a view of the trend in the long term change in validation accuracy rather than the 100th iteration to 100th iteration change. \n",
    "\n",
    "When calculating a best fit we will:\n",
    "\n",
    "* Ignore the first 20 data points\n",
    "* Fit a 1st order polynomial (a straight line) to the remaining data points\n",
    "\n",
    "## Ignoring the first 20 data points\n",
    "\n",
    "We don't want to include data from early steps as we are interested in the trend of the validation accuracy once the network has had a chance to do some initial learning. From the plot above of 'Training and Validation Accuracy vs Iteration Number' it we can see that the validation accuracy is starting to level off roughly between iterations 1500 to 2000. We will be interested in the behaviour after this point. With that in mind, we will ignore the first 20 data points - i.e. we will take iteration 2000 as our first point in calculating a best fit line.\n",
    "\n",
    "## Best fit line\n",
    "\n",
    "We want to fit a line to the data points for t >= 2000. As we are ignoring the first 20 data points, we eliminate much of the 'tail' that comes from errors in the early stages of learning. With that in mind, we will try to fit a straight line to the remaining data to give us a view of the trend of the change in validation accuracy. \n",
    "\n",
    "Below we can see the plot of the change in validation accuracy alongside the best fit line. Above 18,000 iterations the best fit line indicates that the training accuracy will tend to get worse. This is just a consequence of using a line to fit to the data. \n",
    "\n",
    "We could try to fit a higher order polynomial but inspite of the unusual trend at higher values for training iteration the best fit line will still be sufficient for our purposes; specifically, view a high level trend out of the noisy data.\n",
    "\n",
    "From the best fit line we can see that the change in accuracy is low for all values of t >= 2000. Balancing sufficient accuracy with minimal iterations would suggest from the graphs below that we could stop our model training after 5,000 - 7,500 iterations.\n",
    "\n",
    "The best fit line evaluated for t = 5,000 is 0.0002 and for t = 7,500 is 0.00016. \n",
    "\n",
    "This means that for every 100 iterations over 5,000, we will see an increase of 0.0002 (or 0.02%) increase in training accuracy - an acceptably low rate; at least within the assumption of a linear fit to the data.\n",
    "\n",
    "With this in mind, and considering the limited computational resources for the experiment, we will select 5,000 iterations (which is approximately 6 training epochs) as our number of iterations to run. \n",
    "\n",
    "The relatively low rate of change of validation accuracy at this point means that significant differences between the reported accuracy of different models should not be a result of too few iterations."
   ]
  },
  {
   "cell_type": "code",
   "execution_count": null,
   "metadata": {},
   "outputs": [],
   "source": [
    "# get the difference in validation accuracy\n",
    "dvalidation = validation[1:] - validation[0:-1]\n",
    "\n",
    "# fit a function to the data\n",
    "# - select a value to start including data from\n",
    "ex = 20\n",
    "# - based on ex form the start and end points in the data that we can use.\n",
    "#   tstart is ex, tend is len(t) - 1. \n",
    "tstart = ex\n",
    "tend = len(t) - 1\n",
    "# - fit the curve to the data. Fitting a 1st order polynomial (a line)\n",
    "dvbf = np.polyfit(t[tstart:tend], dvalidation[tstart:tend], 1)\n",
    "p = np.poly1d(dvbf)\n",
    "\n",
    "# plot the dvalidation data alongside the fit polynomial\n",
    "plt.plot(t[tstart:tend], dvalidation[tstart:tend], 'b.')\n",
    "#plt.ylim([-0.005, 0.005])\n",
    "plt.minorticks_on()\n",
    "plt.plot(t[tstart:tend], p(t[tstart:tend]), 'r-.')\n",
    "plt.gca().grid(True, which='both')\n",
    "plt.gca().axhline(y=0.0, color='g')\n",
    "plt.legend(['Validation', 'Best Fit Line', 'y = 0 line'])\n",
    "\n",
    "# add labels and title\n",
    "plt.xlabel('Training iterations; 800 iterations ~ 1 Epoch')\n",
    "plt.ylabel('Difference in accuracy between iteration x\\n and iteration x-1; x in [100,20000)')\n",
    "plt.title('Change in Training Accuracy vs Iteration Number')"
   ]
  },
  {
   "cell_type": "code",
   "execution_count": null,
   "metadata": {},
   "outputs": [],
   "source": [
    "# plot the dvalidation data alongside the fit polynomial\n",
    "plt.plot(t[tstart:tend], dvalidation[tstart:tend], 'b.')\n",
    "plt.ylim([-0.0015, 0.0015])\n",
    "plt.minorticks_on()\n",
    "plt.plot(t[tstart:tend], p(t[tstart:tend]), 'r-.')\n",
    "plt.gca().grid(True, which='both')\n",
    "plt.gca().axhline(y=0.0, color='g')\n",
    "plt.legend(['Validation', 'Best Fit Line', 'y = 0 line'])\n",
    "\n",
    "# add labels and title\n",
    "plt.xlabel('Training iterations; 800 iterations ~ 1 Epoch')\n",
    "plt.ylabel('Difference in accuracy between iteration x\\n and iteration x-1; x in [100,20000)')\n",
    "plt.title('Change in Training Accuracy vs Iteration Number')"
   ]
  },
  {
   "cell_type": "code",
   "execution_count": null,
   "metadata": {},
   "outputs": [],
   "source": [
    "(p(5000), p(7500))"
   ]
  },
  {
   "cell_type": "code",
   "execution_count": null,
   "metadata": {},
   "outputs": [],
   "source": []
  }
 ],
 "metadata": {
  "language_info": {
   "name": "python",
   "pygments_lexer": "ipython3"
  }
 },
 "nbformat": 4,
 "nbformat_minor": 2
}
